{
  "nbformat": 4,
  "nbformat_minor": 0,
  "metadata": {
    "colab": {
      "provenance": []
    },
    "kernelspec": {
      "name": "python3",
      "display_name": "Python 3"
    },
    "language_info": {
      "name": "python"
    }
  },
  "cells": [
    {
      "cell_type": "code",
      "source": [
        "# QUESTION 1\n",
        "# creating a list where first 20 natural numbers as its elements\n",
        "list=[i for i in range(1,21)]\n",
        "# computing sum of all even numbers in the list and product of all odd numbers in the list.\n",
        "s=0\n",
        "p=1\n",
        "for i in list:\n",
        "    if i%2==0:\n",
        "        s+=i\n",
        "    else:\n",
        "        p=p*i\n",
        "\n",
        "# finding mean of the elements of list\n",
        "a=0\n",
        "for i in list:\n",
        "    a+=i\n",
        "\n",
        "m=a/len(list)\n",
        "\n",
        "# finding median of the elements of list\n",
        "median=(list[9]+list[10])/2  # median is mean of two middle numbers when total number of elements is even\n",
        "\n",
        "# finding standard deviation of the elements of list\n",
        "c=0\n",
        "for i in list:\n",
        "    c+=i**2\n",
        "\n",
        "sdd=(c/len(list)-m*2)*0.5\n",
        "print(f\"sum of even elements of the list  is {s}\")\n",
        "print(f\"product of odd elements of the list  is {p}\")\n",
        "print(f\"mean of the elements of the list is {m}\")\n",
        "print(f\"median of the elements of the list is {median}\")\n",
        "print(f\"standard deviation of the list is {sdd}\")"
      ],
      "metadata": {
        "colab": {
          "base_uri": "https://localhost:8080/"
        },
        "id": "MW327wil2UCb",
        "outputId": "ce93a62b-28ee-4bc6-82cd-57a966bbba50"
      },
      "execution_count": null,
      "outputs": [
        {
          "output_type": "stream",
          "name": "stdout",
          "text": [
            "sum of even elements of the list  is 110\n",
            "product of odd elements of the list  is 654729075\n",
            "mean of the elements of the list is 10.5\n",
            "median of the elements of the list is 10.5\n",
            "standard deviation of the list is 61.25\n"
          ]
        }
      ]
    },
    {
      "cell_type": "code",
      "source": [
        "# QUESTION 2\n",
        "# mutable strings can be changed\n",
        "my_list = [1, 2, 3]\n",
        "my_list[0] = 10  # Changing the first element\n",
        "my_list.append(4)  # Adding a new element\n",
        "print(my_list)  # Output: [10, 2, 3, 4]\n",
        "# unmutable strings cannot be changed\n",
        "my_str = \"hello\"\n",
        "# my_str[0] = \"H\"  # This will raise an error\n",
        "my_str = \"Hello\"  # This creates a new string\n",
        "print(my_str)  # Output: Hello"
      ],
      "metadata": {
        "colab": {
          "base_uri": "https://localhost:8080/"
        },
        "id": "lAbXpgMv2adA",
        "outputId": "e94f752e-1624-492d-c4a7-b243bfb2aa28"
      },
      "execution_count": null,
      "outputs": [
        {
          "output_type": "stream",
          "name": "stdout",
          "text": [
            "[10, 2, 3, 4]\n",
            "Hello\n"
          ]
        }
      ]
    },
    {
      "cell_type": "code",
      "source": [
        "# QUESTION 3\n",
        "# Function to generate the first n Fibonacci numbers\n",
        "def fibonacci_sequence(n):\n",
        "    # Initialize the first two Fibonacci numbers\n",
        "    sequence = [0, 1]\n",
        "\n",
        "    # Generate the Fibonacci sequence for n numbers\n",
        "    for i in range(2, n):\n",
        "        # Add the next Fibonacci number to the sequence\n",
        "        next_fib = sequence[-1] + sequence[-2]\n",
        "        sequence.append(next_fib)\n",
        "\n",
        "    # If n is 1, return only the first number [0]\n",
        "    if n == 1:\n",
        "        return [0]\n",
        "\n",
        "    return sequence\n",
        "\n",
        "# Example usage\n",
        "n = 10  # You can change this to generate the first n Fibonacci numbers\n",
        "sequence = fibonacci_sequence(n)\n",
        "\n",
        "# Print the Fibonacci sequence\n",
        "print(f\"The first {n} Fibonacci numbers are: {sequence}\")"
      ],
      "metadata": {
        "colab": {
          "base_uri": "https://localhost:8080/"
        },
        "id": "1acERRTFaxZn",
        "outputId": "f32cdbae-b679-4580-c844-2d0de87d0381"
      },
      "execution_count": null,
      "outputs": [
        {
          "output_type": "stream",
          "name": "stdout",
          "text": [
            "The first 10 Fibonacci numbers are: [0, 1, 1, 2, 3, 5, 8, 13, 21, 34]\n"
          ]
        }
      ]
    },
    {
      "cell_type": "code",
      "source": [
        "# QUESTION 4\n",
        "\n",
        "\n",
        "list=[3,5,7,9,11,13]\n",
        "list[3]=6  #adding 6 in the list\n",
        "list.remove(7) #removing 7 in the list\n",
        "list.reverse() # reversing the list\n",
        "print(list)\n",
        "print(sum(list)/len(list)) #mean\n",
        "print((list[2]+list[3])/2) #median"
      ],
      "metadata": {
        "colab": {
          "base_uri": "https://localhost:8080/"
        },
        "id": "8HIhp0utGrh7",
        "outputId": "e8e85ba0-c7ba-43a8-810e-4090f1888cd1"
      },
      "execution_count": null,
      "outputs": [
        {
          "output_type": "stream",
          "name": "stdout",
          "text": [
            "[13, 11, 6, 5, 3]\n",
            "7.6\n",
            "5.5\n"
          ]
        }
      ]
    },
    {
      "cell_type": "code",
      "source": [
        "# QUESTION 5\n",
        "# Step 1: Read user input\n",
        "input_str = input(\"Enter a comma-separated list of numbers (e.g., '10, 20, 30, 40'): \")\n",
        "# Convert input string into a list of numbers (after splitting by comma and converting to integers)\n",
        "numbers = [int(num) for num in input_str.split(',')]\n",
        "\n",
        "# Step 2: Calculate the mean\n",
        "mean = sum(numbers) / len(numbers)\n",
        "\n",
        "# Step 3: Identify the smallest and largest numbers\n",
        "smallest = min(numbers)\n",
        "largest = max(numbers)\n",
        "\n",
        "# Print the results\n",
        "print(f\"Mean: {mean}\")\n",
        "print(f\"Smallest number: {smallest}\")\n",
        "print(f\"Largest number: {largest}\")"
      ],
      "metadata": {
        "colab": {
          "base_uri": "https://localhost:8080/"
        },
        "id": "2jzz3_gW4EqI",
        "outputId": "2b90ec9f-a07d-435e-e895-6f2493616fbc"
      },
      "execution_count": null,
      "outputs": [
        {
          "output_type": "stream",
          "name": "stdout",
          "text": [
            "Enter a comma-separated list of numbers (e.g., '10, 20, 30, 40'): 20,40,60,10\n",
            "Mean: 32.5\n",
            "Smallest number: 10\n",
            "Largest number: 60\n"
          ]
        }
      ]
    },
    {
      "cell_type": "code",
      "source": [
        "# QUESTION 6\n",
        "s=str(\"A man a plan a canal Panama\")\n",
        "reverse_s=s[::-1]# rversing the string\n",
        "string = ''.join(s.split()).lower() #removing spaces in between and joining them\n",
        "reverse_string = ''.join(reverse_s.split()).lower()\n",
        "if string==reverse_string:\n",
        "    print('True')\n",
        "else:\n",
        "    print('False')\n",
        "\n"
      ],
      "metadata": {
        "colab": {
          "base_uri": "https://localhost:8080/"
        },
        "id": "y4-F2NGENOJb",
        "outputId": "a11fc012-87c7-4335-d2da-ce2457db3e81"
      },
      "execution_count": null,
      "outputs": [
        {
          "output_type": "stream",
          "name": "stdout",
          "text": [
            "True\n"
          ]
        }
      ]
    },
    {
      "cell_type": "code",
      "source": [
        "# 7 QUESTION\n",
        "dict={'ram':82, 'harry':96, 'kushal':50, 'rohan':30}\n",
        "average=sum(dict.values())/len(dict)#finding average\n",
        "print(average)\n",
        "for student, marks in dict.items():# finding students who are above average\n",
        "    if marks > average:\n",
        "        print(student)"
      ],
      "metadata": {
        "colab": {
          "base_uri": "https://localhost:8080/"
        },
        "id": "7sXhhg2UO802",
        "outputId": "9918754f-e944-44db-c665-2de7290af928"
      },
      "execution_count": null,
      "outputs": [
        {
          "output_type": "stream",
          "name": "stdout",
          "text": [
            "64.5\n",
            "ram\n",
            "harry\n"
          ]
        }
      ]
    },
    {
      "cell_type": "code",
      "source": [
        "# 8 QUESTION\n",
        "# Create a list of tuples containing a number and its square for numbers 1 to 10\n",
        "squared_numbers = [(i, i**2) for i in range(1, 6)]\n",
        "\n",
        "\n",
        "print(squared_numbers)"
      ],
      "metadata": {
        "colab": {
          "base_uri": "https://localhost:8080/"
        },
        "id": "oZKTac_4UA_V",
        "outputId": "43d08a38-25b5-47da-f4fc-a36279cdab3d"
      },
      "execution_count": null,
      "outputs": [
        {
          "output_type": "stream",
          "name": "stdout",
          "text": [
            "[(1, 1), (2, 4), (3, 9), (4, 16), (5, 25)]\n"
          ]
        }
      ]
    },
    {
      "cell_type": "code",
      "source": [
        "# 9 QUESTION\n",
        "dict1 = {'a': 10, 'b': 20}\n",
        "dict2 = {'b': 5, 'c': 15}\n",
        "#add values to dict1\n",
        "for key, value in dict2.items():\n",
        "    if key in dict1:\n",
        "        dict1[key] += value #adding the values of common key\n",
        "    else:\n",
        "        dict1[key] = value #adding values into dict1\n",
        "print(dict1)"
      ],
      "metadata": {
        "colab": {
          "base_uri": "https://localhost:8080/"
        },
        "id": "JK7vXYD0VT4V",
        "outputId": "e5025868-7751-4e4b-f4c1-282f494ba87d"
      },
      "execution_count": null,
      "outputs": [
        {
          "output_type": "stream",
          "name": "stdout",
          "text": [
            "{'a': 10, 'b': 25, 'c': 15}\n"
          ]
        }
      ]
    },
    {
      "cell_type": "code",
      "source": [
        "#10 QUESTION\n",
        "s=input()\n",
        "l=s.lower() #making all the characters i lower\n",
        "dict={}# forming a dict\n",
        "for i in l: #looping through characters and counting them\n",
        "    if i in dict:\n",
        "        dict[i]+=1\n",
        "    else:\n",
        "        dict[i]=1\n",
        "print(dict)"
      ],
      "metadata": {
        "colab": {
          "base_uri": "https://localhost:8080/"
        },
        "id": "k32jg-qlWtT0",
        "outputId": "a77ecfa6-8378-4c3d-a4ee-d42f6d0c2474"
      },
      "execution_count": null,
      "outputs": [
        {
          "output_type": "stream",
          "name": "stdout",
          "text": [
            "fsighsighislghizghzgi\n",
            "{'f': 1, 's': 3, 'i': 5, 'g': 5, 'h': 4, 'l': 1, 'z': 2}\n"
          ]
        }
      ]
    },
    {
      "cell_type": "code",
      "source": [
        "#11 QUESTION\n",
        "n='3793'\n",
        "l=[]# making a list\n",
        "for i in n: # looping through all the integers and appending unique integers to the list l\n",
        "  if i in l:\n",
        "    continue\n",
        "  else:\n",
        "    l.append(int(i))\n",
        "    l.sort()\n",
        "\n",
        "print('Mean is',sum(l)/len(l))\n",
        "print('Median is',l[1]+l[2]/2)\n"
      ],
      "metadata": {
        "colab": {
          "base_uri": "https://localhost:8080/"
        },
        "id": "CkXDE71zXbjj",
        "outputId": "e84f1f61-1b6e-4274-ce28-6b7ab77d9c41"
      },
      "execution_count": null,
      "outputs": [
        {
          "output_type": "stream",
          "name": "stdout",
          "text": [
            "Mean is 5.5\n",
            "Median is 6.5\n"
          ]
        }
      ]
    },
    {
      "cell_type": "code",
      "source": [
        "# QUESTION 12\n",
        "s=input()\n",
        "l=s.split()\n",
        "n=[]\n",
        "t=0\n",
        "for i in l:\n",
        "    n.append(i)\n",
        "    k=len(i)\n",
        "    if t<k:\n",
        "        t=k\n",
        "print(t)\n"
      ],
      "metadata": {
        "id": "e6FLFvi7MQ7U"
      },
      "execution_count": null,
      "outputs": []
    },
    {
      "cell_type": "code",
      "source": [
        "# QUESTION 13\n",
        "data = [{'name': 'Alice', 'age': 25}, {'name': 'Bob', 'age': 22}]\n",
        "def sort_dicts_by_key(data, key):\n",
        "    # Sort the list of dictionaries by the specified key\n",
        "    data.sort(key=lambda x: x.get(key))\n",
        "    return data\n",
        "\n",
        "\n",
        "\n",
        "# Sort the list of dictionaries by the \"age\" key\n",
        "sorted_dicts = sort_dicts_by_key(data, \"age\")\n",
        "\n",
        "# Output the sorted list of dictionaries\n",
        "print(sorted_dicts)"
      ],
      "metadata": {
        "id": "AIeyN11_Me_5"
      },
      "execution_count": null,
      "outputs": []
    },
    {
      "cell_type": "code",
      "source": [
        "#QUESTION 14\n",
        "def process_string(input_string):\n",
        "    # Split the string into words\n",
        "    words = input_string.split()\n",
        "\n",
        "    # Remove words shorter than 4 characters\n",
        "    filtered_words = [word for word in words if len(word) >= 4]\n",
        "\n",
        "    # Sort the remaining words alphabetically\n",
        "    filtered_words.sort()\n",
        "\n",
        "    return filtered_words\n",
        "\n",
        "# Sample input string\n",
        "input_string = \"This is an example sentence with some random words for processing\"\n",
        "\n",
        "# Step 1: Process the string\n",
        "processed_words = process_string(input_string)\n",
        "\n",
        "# Step 2: Visualize word lengths using a bar chart\n",
        "word_lengths = [len(word) for word in processed_words]\n",
        "# Create the bar chart\n",
        "plt.figure(figsize=(10, 6))\n",
        "plt.bar(processed_words, word_lengths, color='skyblue')\n",
        "\n",
        "# Adding labels and title\n",
        "plt.xlabel('Words')\n",
        "plt.ylabel('Length of Word')\n",
        "plt.title('Word Lengths of Filtered and Sorted Words')\n",
        "plt.xticks(rotation=45, ha='right')\n",
        "\n",
        "# Display the chart\n",
        "plt.tight_layout()\n",
        "plt.show()\n",
        "# Optionally print the processed words for verification\n",
        "print(\"Processed Words:\", processed_words)"
      ],
      "metadata": {
        "colab": {
          "base_uri": "https://localhost:8080/",
          "height": 624
        },
        "id": "VI5up65lM4Oj",
        "outputId": "e8fb32fb-ff56-48c5-bc64-5a8cce589998"
      },
      "execution_count": null,
      "outputs": [
        {
          "output_type": "display_data",
          "data": {
            "text/plain": [
              "<Figure size 1000x600 with 1 Axes>"
            ],
            "image/png": "[encoded data removed]"
          },
          "metadata": {}
        },
        {
          "output_type": "stream",
          "name": "stdout",
          "text": [
            "Processed Words: ['This', 'example', 'processing', 'random', 'sentence', 'some', 'with', 'words']\n"
          ]
        }
      ]
    },
    {
      "cell_type": "code",
      "source": [
        "# QUESTION 15\n",
        "word = \"listen\"\n",
        "words = [\"enlist\", \"google\", \"inlets\", \"banana\"]\n",
        "\n",
        "word_sort=''.join(sorted(word))# sorting the word listen\n",
        "for i in words:\n",
        "    if word_sort==''.join(sorted(i)):#sorting all the words and comparing them with the previous word\n",
        "        print(i)\n"
      ],
      "metadata": {
        "colab": {
          "base_uri": "https://localhost:8080/"
        },
        "id": "EfLrq0YTFQaB",
        "outputId": "110f254c-e206-4f15-d3fd-ba276e0238b9"
      },
      "execution_count": null,
      "outputs": [
        {
          "output_type": "stream",
          "name": "stdout",
          "text": [
            "enlist\n",
            "inlets\n"
          ]
        }
      ]
    },
    {
      "cell_type": "code",
      "source": [
        "#QUESTION 16\n",
        "l1=[1,2,3,4]\n",
        "l2=[3,4,5,6]\n",
        "# coverting them to sets to perform operations\n",
        "s1=set(l1)\n",
        "s2=set(l2)\n",
        "print('Intersection is ',s1.intersection(s2))# Finding intersection\n",
        "print('Union is ',s1.union(s2))#Finding union\n",
        "print('Symmetric Difference is ',s1^(s2))#finding symmetric difference"
      ],
      "metadata": {
        "colab": {
          "base_uri": "https://localhost:8080/"
        },
        "id": "edhehBeUGYb-",
        "outputId": "5f9059b7-e8a6-4c6f-f503-779ca58a2fae"
      },
      "execution_count": null,
      "outputs": [
        {
          "output_type": "stream",
          "name": "stdout",
          "text": [
            "Intersection is  {3, 4}\n",
            "Union is  {1, 2, 3, 4, 5, 6}\n",
            "Symmetric Difference is  {1, 2, 5, 6}\n"
          ]
        }
      ]
    },
    {
      "cell_type": "code",
      "source": [
        "#QUESTION 17\n",
        "\n",
        "numbers = [10, 20, 30, 40, 50]\n",
        "\n",
        "# Open the file in write mode ('w') and write numbers\n",
        "with open(\"numbers.txt\", \"w\") as file:\n",
        "    for number in numbers:\n",
        "        file.write(str(number) + \"\\n\")\n",
        "\n",
        "# Read the file and compute the sum of the numbers\n",
        "sum_of_numbers = 0\n",
        "with open(\"numbers.txt\", \"r\") as file:\n",
        "    for line in file:\n",
        "        sum_of_numbers += int(line.strip())  # Convert each line to an integer and add to the sum\n",
        "\n",
        "\n",
        "print(\"Sum of numbers in the file is \",sum_of_numbers)\n"
      ],
      "metadata": {
        "colab": {
          "base_uri": "https://localhost:8080/"
        },
        "id": "2C_cnn8VIWV3",
        "outputId": "c0b95a3c-c8c1-4c69-b238-012d11e49d01"
      },
      "execution_count": null,
      "outputs": [
        {
          "output_type": "stream",
          "name": "stdout",
          "text": [
            "Sum of numbers in the file is  150\n"
          ]
        }
      ]
    },
    {
      "cell_type": "code",
      "source": [
        "# QUESTION 18\n",
        "\n",
        "\n"
      ],
      "metadata": {
        "colab": {
          "base_uri": "https://localhost:8080/",
          "height": 332
        },
        "id": "5YFx8OVSKAON",
        "outputId": "9f4cb7a8-60fb-419f-e8fa-d50ff2aa73ce"
      },
      "execution_count": null,
      "outputs": [
        {
          "output_type": "error",
          "ename": "FileNotFoundError",
          "evalue": "[Errno 2] No such file or directory: 'sample.txt'",
          "traceback": [
            "\u001b[0;31m---------------------------------------------------------------------------\u001b[0m",
            "\u001b[0;31mFileNotFoundError\u001b[0m                         Traceback (most recent call last)",
            "\u001b[0;32m<ipython-input-5-61b21ba0c8c2>\u001b[0m in \u001b[0;36m<cell line: 35>\u001b[0;34m()\u001b[0m\n\u001b[1;32m     33\u001b[0m \u001b[0;31m# Example usage\u001b[0m\u001b[0;34m\u001b[0m\u001b[0;34m\u001b[0m\u001b[0m\n\u001b[1;32m     34\u001b[0m \u001b[0mfile_name\u001b[0m \u001b[0;34m=\u001b[0m \u001b[0;34m\"sample.txt\"\u001b[0m  \u001b[0;31m# Replace with the path to your file\u001b[0m\u001b[0;34m\u001b[0m\u001b[0;34m\u001b[0m\u001b[0m\n\u001b[0;32m---> 35\u001b[0;31m \u001b[0mtotal_words\u001b[0m\u001b[0;34m,\u001b[0m \u001b[0mmost_frequent_word\u001b[0m\u001b[0;34m,\u001b[0m \u001b[0mfrequency\u001b[0m \u001b[0;34m=\u001b[0m \u001b[0mword_count_and_frequency\u001b[0m\u001b[0;34m(\u001b[0m\u001b[0mfile_name\u001b[0m\u001b[0;34m)\u001b[0m\u001b[0;34m\u001b[0m\u001b[0;34m\u001b[0m\u001b[0m\n\u001b[0m\u001b[1;32m     36\u001b[0m \u001b[0;34m\u001b[0m\u001b[0m\n\u001b[1;32m     37\u001b[0m \u001b[0;31m# Print the results\u001b[0m\u001b[0;34m\u001b[0m\u001b[0;34m\u001b[0m\u001b[0m\n",
            "\u001b[0;32m<ipython-input-5-61b21ba0c8c2>\u001b[0m in \u001b[0;36mword_count_and_frequency\u001b[0;34m(file_name)\u001b[0m\n\u001b[1;32m      6\u001b[0m \u001b[0;34m\u001b[0m\u001b[0m\n\u001b[1;32m      7\u001b[0m     \u001b[0;31m# Open the file for reading\u001b[0m\u001b[0;34m\u001b[0m\u001b[0;34m\u001b[0m\u001b[0m\n\u001b[0;32m----> 8\u001b[0;31m     \u001b[0;32mwith\u001b[0m \u001b[0mopen\u001b[0m\u001b[0;34m(\u001b[0m\u001b[0mfile_name\u001b[0m\u001b[0;34m,\u001b[0m \u001b[0;34m'r'\u001b[0m\u001b[0;34m)\u001b[0m \u001b[0;32mas\u001b[0m \u001b[0mfile\u001b[0m\u001b[0;34m:\u001b[0m\u001b[0;34m\u001b[0m\u001b[0;34m\u001b[0m\u001b[0m\n\u001b[0m\u001b[1;32m      9\u001b[0m         \u001b[0;31m# Read the file line by line\u001b[0m\u001b[0;34m\u001b[0m\u001b[0;34m\u001b[0m\u001b[0m\n\u001b[1;32m     10\u001b[0m         \u001b[0;32mfor\u001b[0m \u001b[0mline\u001b[0m \u001b[0;32min\u001b[0m \u001b[0mfile\u001b[0m\u001b[0;34m:\u001b[0m\u001b[0;34m\u001b[0m\u001b[0;34m\u001b[0m\u001b[0m\n",
            "\u001b[0;31mFileNotFoundError\u001b[0m: [Errno 2] No such file or directory: 'sample.txt'"
          ]
        }
      ]
    },
    {
      "cell_type": "code",
      "source": [
        "# QUESTION 19\n",
        "import random\n",
        "\n",
        "# Step 1: Generate 100 random integers between 1 and 50\n",
        "random_numbers = [random.randint(1, 50) for _ in range(100)]\n",
        "\n",
        "# Step 2: Save the random numbers in a text file, one per line\n",
        "file_name = \"random_numbers.txt\"\n",
        "with open(file_name, \"w\") as file:\n",
        "    for number in random_numbers:\n",
        "        file.write(f\"{number}\\n\")\n",
        "\n",
        "# Step 3: Read the file and compute the mean of the numbers\n",
        "sum_of_numbers = 0\n",
        "count = 0\n",
        "\n",
        "with open(file_name, \"r\") as file:\n",
        "    for line in file:\n",
        "        sum_of_numbers += int(line.strip())  # Convert each line to an integer and add to sum\n",
        "        count += 1\n",
        "\n",
        "# Compute the mean\n",
        "mean = sum_of_numbers / count\n",
        "print(f\"Mean of the numbers: {mean}\")\n"
      ],
      "metadata": {
        "colab": {
          "base_uri": "https://localhost:8080/"
        },
        "id": "cFEsEI7-ONLe",
        "outputId": "39fd1374-ada8-4ab4-ede7-9026b07b449f"
      },
      "execution_count": null,
      "outputs": [
        {
          "output_type": "stream",
          "name": "stdout",
          "text": [
            "Mean of the numbers: 24.91\n"
          ]
        }
      ]
    },
    {
      "cell_type": "code",
      "source": [
        "#QUESTION 20\n"
      ],
      "metadata": {
        "colab": {
          "base_uri": "https://localhost:8080/",
          "height": 332
        },
        "id": "zRkY0HLUQsnS",
        "outputId": "c2f896da-ec2c-4df1-923a-db4da9e63739"
      },
      "execution_count": null,
      "outputs": [
        {
          "output_type": "error",
          "ename": "FileNotFoundError",
          "evalue": "[Errno 2] No such file or directory: 'data.csv'",
          "traceback": [
            "\u001b[0;31m---------------------------------------------------------------------------\u001b[0m",
            "\u001b[0;31mFileNotFoundError\u001b[0m                         Traceback (most recent call last)",
            "\u001b[0;32m<ipython-input-6-ccc0e95cef44>\u001b[0m in \u001b[0;36m<cell line: 36>\u001b[0;34m()\u001b[0m\n\u001b[1;32m     34\u001b[0m \u001b[0;34m\u001b[0m\u001b[0m\n\u001b[1;32m     35\u001b[0m \u001b[0;31m# Process the CSV file\u001b[0m\u001b[0;34m\u001b[0m\u001b[0;34m\u001b[0m\u001b[0m\n\u001b[0;32m---> 36\u001b[0;31m \u001b[0mvalues\u001b[0m\u001b[0;34m,\u001b[0m \u001b[0mcolumn_sum\u001b[0m \u001b[0;34m=\u001b[0m \u001b[0mprocess_csv\u001b[0m\u001b[0;34m(\u001b[0m\u001b[0mfile_name\u001b[0m\u001b[0;34m,\u001b[0m \u001b[0mcolumn_name\u001b[0m\u001b[0;34m)\u001b[0m\u001b[0;34m\u001b[0m\u001b[0;34m\u001b[0m\u001b[0m\n\u001b[0m\u001b[1;32m     37\u001b[0m \u001b[0;34m\u001b[0m\u001b[0m\n\u001b[1;32m     38\u001b[0m \u001b[0;31m# Print the sum of the column\u001b[0m\u001b[0;34m\u001b[0m\u001b[0;34m\u001b[0m\u001b[0m\n",
            "\u001b[0;32m<ipython-input-6-ccc0e95cef44>\u001b[0m in \u001b[0;36mprocess_csv\u001b[0;34m(file_name, column_name)\u001b[0m\n\u001b[1;32m      8\u001b[0m \u001b[0;34m\u001b[0m\u001b[0m\n\u001b[1;32m      9\u001b[0m     \u001b[0;31m# Open the CSV file and read it\u001b[0m\u001b[0;34m\u001b[0m\u001b[0;34m\u001b[0m\u001b[0m\n\u001b[0;32m---> 10\u001b[0;31m     \u001b[0;32mwith\u001b[0m \u001b[0mopen\u001b[0m\u001b[0;34m(\u001b[0m\u001b[0mfile_name\u001b[0m\u001b[0;34m,\u001b[0m \u001b[0mmode\u001b[0m\u001b[0;34m=\u001b[0m\u001b[0;34m'r'\u001b[0m\u001b[0;34m)\u001b[0m \u001b[0;32mas\u001b[0m \u001b[0mfile\u001b[0m\u001b[0;34m:\u001b[0m\u001b[0;34m\u001b[0m\u001b[0;34m\u001b[0m\u001b[0m\n\u001b[0m\u001b[1;32m     11\u001b[0m         \u001b[0mcsv_reader\u001b[0m \u001b[0;34m=\u001b[0m \u001b[0mcsv\u001b[0m\u001b[0;34m.\u001b[0m\u001b[0mDictReader\u001b[0m\u001b[0;34m(\u001b[0m\u001b[0mfile\u001b[0m\u001b[0;34m)\u001b[0m\u001b[0;34m\u001b[0m\u001b[0;34m\u001b[0m\u001b[0m\n\u001b[1;32m     12\u001b[0m \u001b[0;34m\u001b[0m\u001b[0m\n",
            "\u001b[0;31mFileNotFoundError\u001b[0m: [Errno 2] No such file or directory: 'data.csv'"
          ]
        }
      ]
    },
    {
      "cell_type": "code",
      "source": [
        "#QUESTION 21\n",
        "import statistics as stats\n",
        "\n",
        "\n",
        "\n",
        "# Function to calculate mean, median, mode, and standard deviation of a list\n",
        "def calculate_statistics(number):\n",
        "    mean = stats.mean(number)\n",
        "    median = stats.median(number)\n",
        "    mode = stats.mode(number)\n",
        "    stdev = stats.stdev(number)\n",
        "\n",
        "    return mean, median, mode, stdev\n",
        "\n",
        "# Sample list of number\n",
        "number = [10, 20, 30, 40, 50, 60, 70, 80, 90, 100, 10, 20, 30, 40, 50]\n",
        "\n",
        "# Calculate statistics\n",
        "mean, median, mode, stdev = calculate_statistics(number)\n",
        "\n",
        "# Print the results\n",
        "print(f\"Mean: {mean}\")\n",
        "print(f\"Median: {median}\")\n",
        "print(f\"Mode: {mode}\")\n",
        "print(f\"Standard Deviation: {stdev}\")\n"
      ],
      "metadata": {
        "colab": {
          "base_uri": "https://localhost:8080/"
        },
        "id": "RFm5N_05Rrdo",
        "outputId": "a8c87429-4ace-4a71-cb2a-616d49a1881f"
      },
      "execution_count": null,
      "outputs": [
        {
          "output_type": "stream",
          "name": "stdout",
          "text": [
            "Mean: 46.666666666666664\n",
            "Median: 40\n",
            "Mode: 10\n",
            "Standard Deviation: 28.45213189769458\n"
          ]
        }
      ]
    },
    {
      "cell_type": "code",
      "execution_count": null,
      "metadata": {
        "colab": {
          "base_uri": "https://localhost:8080/",
          "height": 564
        },
        "id": "MjFe7Xm8G_Ym",
        "outputId": "2c6e3cb2-36ed-404c-ea28-baffea79b629"
      },
      "outputs": [
        {
          "output_type": "display_data",
          "data": {
            "text/plain": [
              "<Figure size 1000x600 with 1 Axes>"
            ],
            "image/png": "[encoded data removed]"
          },
          "metadata": {}
        }
      ],
      "source": [
        "# QUESTION 22\n",
        "import matplotlib.pyplot as plt\n",
        "\n",
        "def normalize_data(data):\n",
        "    # Find the minimum and maximum values in the data\n",
        "    min_value = min(data)\n",
        "    max_value = max(data)\n",
        "\n",
        "    # Normalize each data point to the range [0, 1]\n",
        "    normalized_data = [(x - min_value) / (max_value - min_value) for x in data]\n",
        "\n",
        "    return normalized_data\n",
        "\n",
        "# Example data\n",
        "data = [10, 20, 30, 40, 50, 60, 70, 80, 90, 100]\n",
        "\n",
        "# Normalize the data\n",
        "normalized_data = normalize_data(data)\n",
        "\n",
        "# Plotting the original and normalized data\n",
        "plt.figure(figsize=(10, 6))\n",
        "\n",
        "# Line plot for original data\n",
        "plt.plot(data, label=\"Original Data\", color='blue', marker='o')\n",
        "\n",
        "# Line plot for normalized data\n",
        "plt.plot(normalized_data, label=\"Normalized Data\", color='red', marker='x')\n",
        "\n",
        "# Adding labels and title\n",
        "plt.xlabel('Index')\n",
        "plt.ylabel('Value')\n",
        "plt.title('Original vs Normalized Data')\n",
        "plt.legend()\n",
        "\n",
        "# Show the plot\n",
        "plt.grid(True)\n",
        "plt.show()"
      ]
    },
    {
      "cell_type": "code",
      "source": [
        "#QUESTION 23\n",
        "n=int(input())\n",
        "if n%2==0: # setting condition for odd or even\n",
        "    print('Even')\n",
        "else:\n",
        "    print('Odd')"
      ],
      "metadata": {
        "id": "lhSyqSoPNFz-"
      },
      "execution_count": null,
      "outputs": []
    },
    {
      "cell_type": "code",
      "source": [
        "# QUESTION 24\n",
        "n=int(input())\n",
        "# grouping them on the basis of grade\n",
        "if 100>=n>=91:\n",
        "    print('A')\n",
        "if 90>=n>=81:\n",
        "    print('B')\n",
        "if 80>=n>=71:\n",
        "    print('C')\n",
        "if 70>=n>=61:\n",
        "    print('D')\n",
        "if 60>=n>=0:\n",
        "    print('F')"
      ],
      "metadata": {
        "id": "xMcpMC7JMFdu"
      },
      "execution_count": null,
      "outputs": []
    },
    {
      "cell_type": "code",
      "source": [
        "#QUESTION 25#\n",
        "n=int(input())\n",
        "if n%400==0 or n%100!=0 and n%4==0: # setting conditions for leap year\n",
        "    print('Leap Year')\n",
        "else:\n",
        "    print('Not a Leap Year')"
      ],
      "metadata": {
        "colab": {
          "base_uri": "https://localhost:8080/"
        },
        "id": "OnpK3jCrL-2M",
        "outputId": "6e0d1c4c-52fe-4b02-af60-ddf52e83422d"
      },
      "execution_count": null,
      "outputs": [
        {
          "output_type": "stream",
          "name": "stdout",
          "text": [
            "4000\n",
            "Leap Year\n"
          ]
        }
      ]
    },
    {
      "cell_type": "code",
      "source": [],
      "metadata": {
        "id": "IRyUujG-JrwF",
        "colab": {
          "base_uri": "https://localhost:8080/"
        },
        "outputId": "20c6cca4-88a4-45d1-8bdd-37b0ad858545"
      },
      "execution_count": null,
      "outputs": [
        {
          "output_type": "execute_result",
          "data": {
            "text/plain": [
              "1000"
            ]
          },
          "metadata": {},
          "execution_count": 11
        }
      ]
    }
  ]
}